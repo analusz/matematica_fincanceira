{
  "nbformat": 4,
  "nbformat_minor": 0,
  "metadata": {
    "colab": {
      "provenance": [],
      "authorship_tag": "ABX9TyNPcMdP4PbojH3J+tpPrse7"
    },
    "kernelspec": {
      "name": "python3",
      "display_name": "Python 3"
    },
    "language_info": {
      "name": "python"
    }
  },
  "cells": [
    {
      "cell_type": "markdown",
      "metadata": {
        "id": "2TuyPXbywCpq"
      },
      "source": [
        "<h1><b><center></center>Exercícios Cap1 Matemática Financeira - Samanez</b></h1>"
      ]
    },
    {
      "cell_type": "code",
      "source": [
        "from sympy import *\n",
        "#Importando a biblioteca sympy para simplificar contas"
      ],
      "metadata": {
        "id": "qPsMidCvIr3y"
      },
      "execution_count": 103,
      "outputs": []
    },
    {
      "cell_type": "markdown",
      "metadata": {
        "id": "vGFn7-8SwIiR"
      },
      "source": [
        "<p> 3. Calcular o rendimento de um capital de &#36;80.000 aplicado durante 28 dias à taxa de juros simples\n",
        "de 26% a.m</p>\n",
        "\n"
      ]
    },
    {
      "cell_type": "code",
      "source": [
        "taxa_dias = (26/30)/100 #Taxa ao dia\n",
        "rendimento = 80000 * taxa_dias * 28 #calculo de juros simples\n",
        "\n",
        "f'R$ {rendimento:,.2f}' #formata o valor em real"
      ],
      "metadata": {
        "colab": {
          "base_uri": "https://localhost:8080/",
          "height": 35
        },
        "id": "1eTHFOEd7qp_",
        "outputId": "cc40a7a9-c88f-45fe-b445-e67056383c85"
      },
      "execution_count": 104,
      "outputs": [
        {
          "output_type": "execute_result",
          "data": {
            "text/plain": [
              "'R$ 19,413.33'"
            ],
            "application/vnd.google.colaboratory.intrinsic+json": {
              "type": "string"
            }
          },
          "metadata": {},
          "execution_count": 104
        }
      ]
    },
    {
      "cell_type": "markdown",
      "metadata": {
        "id": "Un9xcAqZW42-"
      },
      "source": [
        "<p> 6. Um capital aplicado transformou-se em $13.000. Considerando uma taxa de juros simples de 42% a.a.\n",
        "e uma remuneração de &#36;4.065,29, determinar o prazo da aplicação. </p>\n",
        "\n"
      ]
    },
    {
      "cell_type": "code",
      "source": [
        "n = symbols('n') #define o simbolo\n",
        "\n",
        "taxa_meses = (42/100)/12 #taxa em meses\n",
        "\n",
        "eq_rendimentos = Eq((13000*taxa_meses*n)/(1+(taxa_meses*n)), 4065.29) #equacao J = (s*i*n)/1 + i*n\n",
        "\n",
        "valor_n = solve(eq_rendimentos, n)[0] #usa a formula eq_rendimentos para resolver o valor de n\n",
        "\n",
        "round(valor_n) #round para aproximar valor ao inteiro mais proximo"
      ],
      "metadata": {
        "id": "lxKObQHrYuey",
        "colab": {
          "base_uri": "https://localhost:8080/",
          "height": 37
        },
        "outputId": "4a72157d-d726-472d-e25a-40864d996501"
      },
      "execution_count": 105,
      "outputs": [
        {
          "output_type": "execute_result",
          "data": {
            "text/plain": [
              "13"
            ],
            "text/latex": "$\\displaystyle 13$"
          },
          "metadata": {},
          "execution_count": 105
        }
      ]
    },
    {
      "cell_type": "markdown",
      "metadata": {
        "id": "cT7PLJ5RYc-m"
      },
      "source": [
        "<p> 9. Um capital acrescido de seus juros de 21 meses soma $156.400. O mesmo capital diminuído de seus\n",
        "juros de nove meses é reduzido a &#36;88.400. Calcular o capital e a taxa de juros simples obtidos. </p>\n",
        "\n"
      ]
    },
    {
      "cell_type": "code",
      "source": [
        "i, p = symbols('i, p') #define simbolos\n",
        "\n",
        "eq1 = Eq(p * (1 + 21 * i), 156400) #montante1\n",
        "eq2 = Eq(p * (1 - 9 * i), 88400) #montante2\n",
        "\n",
        "divisao = (p * (1 + 21 * i)) / (p * (1 - 9 * i)) #divide equações montante1 e 2\n",
        "\n",
        "divisao_simplificada = Eq(divisao, 156400 / 88400) #equacao i sem p\n",
        "\n",
        "taxa_juros = solve(divisao_simplificada, i)[0] #esta em forma decimal e em mensal\n",
        "\n",
        "eq3 = Eq(p*(1+taxa_juros*21), 156400)\n",
        "\n",
        "aplicacao = solve(eq3)[0]\n",
        "\n",
        "f\"{taxa_juros*100*12:.0f}% a.m.\", f'R$ {aplicacao:,.2f}' #formato da taxa em percentual a.m., formato do capital em real"
      ],
      "metadata": {
        "colab": {
          "base_uri": "https://localhost:8080/"
        },
        "id": "M6SFHJlC9yEH",
        "outputId": "3c092992-680c-4c24-b5f2-8954da41836a"
      },
      "execution_count": 106,
      "outputs": [
        {
          "output_type": "execute_result",
          "data": {
            "text/plain": [
              "('25% a.m.', 'R$ 108,800.00')"
            ]
          },
          "metadata": {},
          "execution_count": 106
        }
      ]
    },
    {
      "cell_type": "markdown",
      "metadata": {
        "id": "SmRDYErS7kQR"
      },
      "source": [
        "<p> 12. Um capital foi aplicado a juros simples de 42% a.a. durante 50 dias. Calcular o capital, sabendo-se\n",
        "que, se a diferença entre ele e os juros obtidos fosse aplicada à mesma taxa, renderia &#36;988,75 em\n",
        "um trimestre. </p>\n",
        "\n"
      ]
    },
    {
      "cell_type": "code",
      "source": [
        "p = symbols('p')\n",
        "taxa = (42/100)/360\n",
        "\n",
        "eq = Eq((p-(p*taxa*50))*90*taxa, 988.75)\n",
        "\n",
        "aplicacao = solve(eq)[0]\n",
        "\n",
        "f'R$ {aplicacao:,.2f}' #formata o valor em real"
      ],
      "metadata": {
        "colab": {
          "base_uri": "https://localhost:8080/",
          "height": 35
        },
        "id": "aTHiU2d-OpEE",
        "outputId": "15a5ad2f-af02-47ef-f4c5-439af900e80b"
      },
      "execution_count": 107,
      "outputs": [
        {
          "output_type": "execute_result",
          "data": {
            "text/plain": [
              "'R$ 10,000.00'"
            ],
            "application/vnd.google.colaboratory.intrinsic+json": {
              "type": "string"
            }
          },
          "metadata": {},
          "execution_count": 107
        }
      ]
    },
    {
      "cell_type": "markdown",
      "metadata": {
        "id": "x50lUwO1mG16"
      },
      "source": [
        "<p> 15. Há 13 meses e dez dias, um capital de &#36;10.000 foi aplicado à taxa de juros simples de 6% a.a.\n",
        "Se hoje fosse aplicada a importância de $8.000 a juros simples de 12% a.a., e o primeiro capital\n",
        "continuar aplicado à mesma taxa, em que prazo os montantes respectivos seriam iguais?\n",
        " </p>\n",
        "\n"
      ]
    },
    {
      "cell_type": "code",
      "source": [
        "tempo_dias = (13*30)+10 #transforma os messes em dias\n",
        "taxa1 = (6/100)/360 #taxa do capital de 10000 em dias\n",
        "taxa2 = (12/100)/360 #taxa do capital de 8000 em dias\n",
        "n, j = symbols('n, j') #define simbolos\n",
        "\n",
        "eq2 = 8000*(1 + taxa2 * n) #equacao montante para a aplicacao de 8000\n",
        "\n",
        "eq1 =10000*(1 + taxa1 * (n+400)) #equacao montante para a aplicacao de 10000, n + tempo_dias pois ele ja estava aplicado a 400 dias\n",
        "\n",
        "eq1_eq2 = Eq(eq1, eq2) #iguala a eq1 e eq2\n",
        "\n",
        "valor_dias = solve(eq1_eq2, n) #resolve a eq1 e eq2 para o valor de n\n",
        "\n",
        "valor_dias[0]/360 #divido por 360 para valor em anos"
      ],
      "metadata": {
        "colab": {
          "base_uri": "https://localhost:8080/",
          "height": 37
        },
        "id": "X3Wq8wOGPlfI",
        "outputId": "56420600-b25b-4922-a43c-cb5eca7bd870"
      },
      "execution_count": 108,
      "outputs": [
        {
          "output_type": "execute_result",
          "data": {
            "text/plain": [
              "7.40740740740741"
            ],
            "text/latex": "$\\displaystyle 7.40740740740741$"
          },
          "metadata": {},
          "execution_count": 108
        }
      ]
    },
    {
      "cell_type": "markdown",
      "metadata": {
        "id": "wEeYTascHpbs"
      },
      "source": [
        "<p> 21. Dois capitais foram colocados a juros simples, o primeiro à taxa de 20% a.a. e o segundo à de 40% a.a. Calcular os capitais, sabendo-se que, somados, eles montam &#36;500 e que os dois, em um ano, renderam juros totais de $130.\n",
        " </p>\n",
        "\n"
      ]
    },
    {
      "cell_type": "code",
      "source": [
        "p1, p2 = symbols('p1 p2')\n",
        "capitais = Eq(p1 + p2, 500) #Dividindo a soma pela taxa 0,2\n",
        "valor_p1 = solve(capitais, p1) # resolve a soma dos capitais para p1\n",
        "\n",
        "somando_juros = Eq((valor_p1[0] * 0.2 * 1 + p2 * 0.4 * 1), 130) #usa o valor de p1 e coloca na soma dos juros\n",
        "valor_p2 = solve(somando_juros, p2) #resolve a soma dos juros para o valor de p2\n",
        "valor_p1 = 500 - valor_p2[0] #valor da soma dos capitais menos o valor do capital 2 (p2) e atualiza o valor_p1\n",
        "\n",
        "f'R$ {valor_p1:,.2f}', f'R$ {valor_p2[0]:,.2f}' #formata o valores em real"
      ],
      "metadata": {
        "colab": {
          "base_uri": "https://localhost:8080/"
        },
        "id": "CNJcxc22H7ib",
        "outputId": "a9c495d1-ddeb-431a-de21-0d5c39121bd3"
      },
      "execution_count": 109,
      "outputs": [
        {
          "output_type": "execute_result",
          "data": {
            "text/plain": [
              "('R$ 350.00', 'R$ 150.00')"
            ]
          },
          "metadata": {},
          "execution_count": 109
        }
      ]
    },
    {
      "cell_type": "markdown",
      "metadata": {
        "id": "iCqxARTfPxH_"
      },
      "source": [
        "<p> 27. Determinar: <br>\n",
        "a. a taxa de juros simples anual que produz um rendimento de &#36;60 em 36 dias a partir de um\n",
        "capital de &#36;2.000; <br>\n",
        "b. a taxa de juros simples mensal que produz um rendimento de &#36;6.000 em 30 meses a partir\n",
        "de um capital de &#36;8.000; <br>\n",
        "c. a taxa de juros simples anual embutida na compra de um bem cujo valor à vista é de &#36;3.000,\n",
        "pelo qual será paga uma entrada de $1.000 mais um pagamento de &#36;2.200 para 60 dias.\n",
        " </p>\n",
        "\n"
      ]
    },
    {
      "cell_type": "code",
      "source": [
        "i = symbols('i') #define simbolos\n",
        "\n",
        "#resolucao a\n",
        "eq_a = Eq(36*2000*i, 60) #equacao dos juros obtidos\n",
        "\n",
        "valor_ai = solve(eq_a, i)[0] #resolve a equacao para i\n",
        "\n",
        "jurosa_anual = (valor_ai*100)*360 #transforma os juros diarios em anual\n",
        "\n",
        "#resolucao b\n",
        "eq_b = Eq(30*8000*i, 6000) #equacao dos juros obtidos\n",
        "\n",
        "valor_bi = solve(eq_b, i)[0] #resolve a equacao para i\n",
        "\n",
        "jurosb_mensal = (valor_bi*100) #juros mensal em percentual\n",
        "\n",
        "#resolucao c\n",
        "#duas formas de fazer, com a formula de S, ou calculando os juros de 2000 a 60dias, farei segundo modo\n",
        "eq_c = Eq(2000*60*i, 200) #equacao dos juros obtidos\n",
        "\n",
        "valor_ci = solve(eq_c, i)[0]\n",
        "juros_canual = valor_ci*100*360 #juros percentual anual\n",
        "\n",
        "f\"{jurosa_anual:.0f}% a.a.\", f\"{jurosb_mensal.evalf(2):.1f}% a.m.\", f\"{juros_canual:.0f}% a.a.\"\n",
        "#.evalf(2) para converter resultado da fraçao em numero decimal\n",
        "#formatacao para saida em numero percentual"
      ],
      "metadata": {
        "colab": {
          "base_uri": "https://localhost:8080/"
        },
        "id": "izHXJFU6Scfg",
        "outputId": "c121e4d7-9680-4c8e-febd-4cabf5243bc9"
      },
      "execution_count": 110,
      "outputs": [
        {
          "output_type": "execute_result",
          "data": {
            "text/plain": [
              "('30% a.a.', '2.5% a.m.', '60% a.a.')"
            ]
          },
          "metadata": {},
          "execution_count": 110
        }
      ]
    },
    {
      "cell_type": "markdown",
      "metadata": {
        "id": "xIdpICLlPxUm"
      },
      "source": [
        "<p> 30. No dia 26 de maio foi contratado um empréstimo de &#36;7.000 a juros simples de 24% a.a. para ser\n",
        "totalmente liquidado em 90 dias. No dia 16 de junho foram amortizados &#36;3.000, e no dia 11 de\n",
        "julho, &#36;2.500. Determinar a data de vencimento da dívida e o valor da quantia que deverá ser paga\n",
        "naquela data para liquidar a dívida. (Data focal: 90&deg;\n",
        " dia.)\n",
        " </p>\n",
        "\n"
      ]
    },
    {
      "cell_type": "code",
      "source": [
        "#facilmente podemos descobrir a data de vencimento olhando a tabela de contagem de dias\n",
        "# Data de vencimento 24 de agosto, tambem usando a tabela vemos a diferenca entre os dias\n",
        "#calculo para o valor da quantia\n",
        "taxa_decimal = 24/100\n",
        "valor_quantia = ( 7000*(1+(taxa_decimal/360)*90)) - ( 3000*(1+(taxa_decimal/360)*69) ) - ( 2500*(1+(taxa_decimal/360)*44) )\n",
        "\n",
        "f'R$ {valor_quantia:,.2f}' #formata valor de saida em real"
      ],
      "metadata": {
        "colab": {
          "base_uri": "https://localhost:8080/",
          "height": 35
        },
        "id": "OdI6SuZFABwi",
        "outputId": "0f755772-4479-4aba-c5b6-0a9935d28292"
      },
      "execution_count": 111,
      "outputs": [
        {
          "output_type": "execute_result",
          "data": {
            "text/plain": [
              "'R$ 1,708.67'"
            ],
            "application/vnd.google.colaboratory.intrinsic+json": {
              "type": "string"
            }
          },
          "metadata": {},
          "execution_count": 111
        }
      ]
    },
    {
      "cell_type": "markdown",
      "metadata": {
        "id": "NqWZdr9QPy8t"
      },
      "source": [
        "<p> 33. Uma aplicação financeira foi iniciada no dia 2 de junho com &#36;2.000. Posteriormente, foram\n",
        "efetuados dois depósitos adicionais de &#36;500 e de &#36;300 nos dias 8 e 16 e um saque de &dollar;200 no dia\n",
        "26 de junho. Se inicialmente foi contratada uma taxa de juros simples de 28% a.a., que depois\n",
        "baixou para 26% a.a. no dia 16 de junho, calcular o saldo disponível em 1&deg;\n",
        " de julho.\n",
        " </p>\n",
        "\n"
      ]
    },
    {
      "cell_type": "code",
      "source": [
        "#usando a tabua de contagem de dias entre datas descobrimos a diferenca entre os dias.\n",
        "taxa_dias1 = (28/100)/360 #taxa inicial em dias e decimal\n",
        "taxa_dias2 = (26/100)/360 #taxa final em dias e decimal\n",
        "\n",
        "saldo_disponivel = 2000*(1+taxa_dias1*29)+500*(1+taxa_dias1*23)+300*(1+taxa_dias2*15)-200*(1+taxa_dias2*5)\n",
        "\n",
        "f'R$ {saldo_disponivel:,.2f}' #formata valor em real"
      ],
      "metadata": {
        "colab": {
          "base_uri": "https://localhost:8080/",
          "height": 35
        },
        "id": "bt-56UqJOix8",
        "outputId": "b43cc58c-fb16-4742-9d77-e15c44a9ffa5"
      },
      "execution_count": 117,
      "outputs": [
        {
          "output_type": "execute_result",
          "data": {
            "text/plain": [
              "'R$ 2,656.58'"
            ],
            "application/vnd.google.colaboratory.intrinsic+json": {
              "type": "string"
            }
          },
          "metadata": {},
          "execution_count": 117
        }
      ]
    }
  ]
}
