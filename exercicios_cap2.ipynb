{
  "nbformat": 4,
  "nbformat_minor": 0,
  "metadata": {
    "colab": {
      "provenance": [],
      "authorship_tag": "ABX9TyN4UXP6btkT4pRyNh+0GeLx",
      "include_colab_link": true
    },
    "kernelspec": {
      "name": "python3",
      "display_name": "Python 3"
    },
    "language_info": {
      "name": "python"
    }
  },
  "cells": [
    {
      "cell_type": "markdown",
      "metadata": {
        "id": "view-in-github",
        "colab_type": "text"
      },
      "source": [
        "<a href=\"https://colab.research.google.com/github/analusz/matematica_fincanceira/blob/main/Exerc%C3%ADcios%20-%20cap%202.ipynb\" target=\"_parent\"><img src=\"https://colab.research.google.com/assets/colab-badge.svg\" alt=\"Open In Colab\"/></a>"
      ]
    },
    {
      "cell_type": "code",
      "execution_count": 2,
      "metadata": {
        "id": "DXBO1g7h6Gmy"
      },
      "outputs": [],
      "source": [
        "from sympy import *\n",
        "#Importando a biblioteca sympy para simplificar contas"
      ]
    },
    {
      "cell_type": "markdown",
      "source": [
        "<p>8. Na compra de um bem cujo valor à vista é 140, deve-se pagar uma entrada mais duas prestações\n",
        "de 80 no fim dos próximos dois meses. Considerando uma taxa de juros efetiva de 20% a.m., qual\n",
        "é o valor da entrada?<p>"
      ],
      "metadata": {
        "id": "FKPLoEnX7Aei"
      }
    },
    {
      "cell_type": "code",
      "source": [
        "#Por equivalência de capitais\n",
        "x = symbols('x') #para definir variável\n",
        "eq = Eq(x+(80/1.2)+(80/1.2**2), 140)\n",
        "valor_x = solve(eq, x)[0]\n",
        "f'R$ {valor_x:,.2f}'"
      ],
      "metadata": {
        "colab": {
          "base_uri": "https://localhost:8080/",
          "height": 35
        },
        "id": "t9UKEeviJQZX",
        "outputId": "d8ee9739-2224-4d00-c12c-3abeca912595"
      },
      "execution_count": null,
      "outputs": [
        {
          "output_type": "execute_result",
          "data": {
            "text/plain": [
              "'R$ 17.78'"
            ],
            "application/vnd.google.colaboratory.intrinsic+json": {
              "type": "string"
            }
          },
          "metadata": {},
          "execution_count": 6
        }
      ]
    },
    {
      "cell_type": "markdown",
      "source": [
        "<p> 18. Por um equipamento de 360.000 pagam-se uma entrada de 20% mais dois pagamentos mensais\n",
        "consecutivos. Se o primeiro pagamento for de 180.000 e a taxa de juros efetiva aplicada for de\n",
        "10% a.m., calcular o valor do segundo pagamento.<p>"
      ],
      "metadata": {
        "id": "27suDQJs8w4E"
      }
    },
    {
      "cell_type": "code",
      "source": [
        "x = symbols('x') #para definir variável\n",
        "entrada = 360000*0.2\n",
        "#Por equivalência de capitais\n",
        "eq = Eq(entrada+(180000/1.1)+(x/1.1**2), 360000)\n",
        "valor_x = solve(eq,x)[0]\n",
        "f'R$ {valor_x:,.2f}'"
      ],
      "metadata": {
        "colab": {
          "base_uri": "https://localhost:8080/",
          "height": 35
        },
        "id": "ZaH0mKa7NjOk",
        "outputId": "58377d6a-1626-4a00-8091-8a4547adfc17"
      },
      "execution_count": null,
      "outputs": [
        {
          "output_type": "execute_result",
          "data": {
            "text/plain": [
              "'R$ 150,480.00'"
            ],
            "application/vnd.google.colaboratory.intrinsic+json": {
              "type": "string"
            }
          },
          "metadata": {},
          "execution_count": 7
        }
      ]
    },
    {
      "cell_type": "markdown",
      "source": [
        "<p>28. Um capital aplicado à taxa de 4% a.m. rendeu após um ano 480,83 de juros. Do montante\n",
        "obtido, foram retirados 600 e o saldo restante foi reaplicado à mesma taxa, resultando em um\n",
        "novo montante de 1.226,15 depois de certo prazo. Determinar o valor do capital inicial e o\n",
        "prazo da reaplicação.<p>\n",
        "\n"
      ],
      "metadata": {
        "id": "EWMz_0TC84F2"
      }
    },
    {
      "cell_type": "code",
      "source": [
        "#Primeiro o capital inicial\n",
        "#Juros = Montante - Aplicação\n",
        "x, n = symbols('x, n') #para definir variável\n",
        "equacao_capital = Eq(x*(1+0.04)**12-x, 480.83)\n",
        "valor_capital = solve(equacao_capital, x)[0]\n",
        "\n",
        "#Prazo da replicação\n",
        "montante_reaplicado = (480.83 + int(valor_capital)) - 600\n",
        "equacao_prazo = Eq(montante_reaplicado*(1.04)**n, 1226.15)\n",
        "valor_n = solve(equacao_prazo, n)[0]\n",
        "f'R$ {valor_capital:,.2f}', str(round(valor_n)) + \" meses\""
      ],
      "metadata": {
        "colab": {
          "base_uri": "https://localhost:8080/"
        },
        "id": "cVaR0pAZOq-X",
        "outputId": "08b96dfe-63ef-4adc-de6c-679ecbba0f12"
      },
      "execution_count": null,
      "outputs": [
        {
          "output_type": "execute_result",
          "data": {
            "text/plain": [
              "('R$ 800.01', '15 meses')"
            ]
          },
          "metadata": {},
          "execution_count": 60
        }
      ]
    },
    {
      "cell_type": "markdown",
      "source": [
        "<p>38. Três dívidas, a primeira de 2.000 vencendo em 30 dias, a segunda de 1.000 vencendo em 60 dias\n",
        "e a terceira de 3.000 vencendo em 90 dias, serão liquidadas por meio de um pagamento único de\n",
        "6.000. Se a taxa de juros efetiva aplicada for de 3% a.m., determinar em quanto tempo deve ser\n",
        "efetuado esse pagamento.<p>"
      ],
      "metadata": {
        "id": "NAZZbniy87yy"
      }
    },
    {
      "cell_type": "code",
      "source": [
        "#Valor presente de cada divida\n",
        "n = symbols('n')\n",
        "primeira = 2000 / (1.03)\n",
        "segunda = 1000 / (1.03)**2\n",
        "terceira = 3000 / (1.03)**3\n",
        "\n",
        "soma_div = primeira + segunda + terceira\n",
        "equacao = Eq(soma_div * (1.03)**n, 6000)\n",
        "\n",
        "solucoes = solve(equacao, n)[0]\n",
        "solucoes"
      ],
      "metadata": {
        "colab": {
          "base_uri": "https://localhost:8080/",
          "height": 37
        },
        "id": "71N6OUdVEiWR",
        "outputId": "1036452f-0ef5-479e-bce4-16e7d484be6c"
      },
      "execution_count": null,
      "outputs": [
        {
          "output_type": "execute_result",
          "data": {
            "text/plain": [
              "2.15472716080516"
            ],
            "text/latex": "$\\displaystyle 2.15472716080516$"
          },
          "metadata": {},
          "execution_count": 45
        }
      ]
    },
    {
      "cell_type": "markdown",
      "source": [
        "<p>48. Uma pessoa depositou 1.000 em um fundo que paga juros efetivos de 5% a.m., com o objetivo de\n",
        "dispor de 1.102,50 dentro de 60 dias. Passados 24 dias após a aplicação, a taxa efetiva baixou para 4% a.m. Quanto tempo adicional, além dos 60 dias inicialmente previstos, ela terá de esperar\n",
        "para obter o capital requerido?<p>"
      ],
      "metadata": {
        "id": "VhiIRAfT8_Ws"
      }
    },
    {
      "cell_type": "code",
      "source": [
        "n = symbols('n')\n",
        "taxa_primeira = ((5/100)/30) + 1 #Primeira taxa em dias\n",
        "taxa_segunda = ((4/100)/30) + 1 #Segunda taxa em dias\n",
        "equacao_primeiro_montante = 1000*(taxa_primeira)**24\n",
        "#Quanto deve ser o segundo montante para dar 1102,50?\n",
        "segundo_montante = 11202.50 - equacao_primeiro_montante\n",
        "equacao_segundo_montante = Eq(equacao_primeiro_montante*(taxa_segunda)**n, segundo_montante)\n",
        "\n",
        "solve(equacao_segundo_montante, n)"
      ],
      "metadata": {
        "colab": {
          "base_uri": "https://localhost:8080/"
        },
        "id": "YrwCl5Q32jP2",
        "outputId": "e168e235-ba76-4170-c9f3-1525fff39883"
      },
      "execution_count": 11,
      "outputs": [
        {
          "output_type": "execute_result",
          "data": {
            "text/plain": [
              "[]"
            ]
          },
          "metadata": {},
          "execution_count": 11
        }
      ]
    }
  ]
}
